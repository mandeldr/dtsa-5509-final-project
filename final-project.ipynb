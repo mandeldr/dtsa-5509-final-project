{
 "cells": [
  {
   "cell_type": "markdown",
   "metadata": {},
   "source": [
    "Project Topic\n",
    "\n",
    "The purpose of this project is to identify the best predictor(s) of of sleep quality. This problem will be solved by training both linear and multivarate regression analysis models to determine these predictor(s).\n",
    "\n",
    "My motivation behind this project is to clear up any misconceptions behind sleep quality as well as inform anyone who is interested in improving the quality of sleep they experience. The outcome of this project will produce actionable information that anyone can incorporate into daily life. Getting quality sleep is one of the best ways to live a longer, healthier and happy life."
   ]
  },
  {
   "cell_type": "markdown",
   "metadata": {},
   "source": [
    "Data Source\n",
    "\n",
    "The data set being used is from the website Kaggle:\n",
    "\n",
    "[1] Sleep Health and Lifestyle Dataset\n",
    "https://www.kaggle.com/datasets/uom190346a/sleep-health-and-lifestyle-dataset/data\n",
    "\n",
    "It was created synthetically by Laksika Tharmalingam"
   ]
  },
  {
   "cell_type": "markdown",
   "metadata": {},
   "source": [
    "Data Description\n",
    "\n",
    "Overview\n",
    "\n",
    "The Sleep Health and Lifestyle Dataset contains 400 rows and 13 columns. It has a wide range of variables related to sleep and lifestyle habits.\n",
    "\n",
    "Columns\n",
    "\n",
    "Person ID: An identifier for each individual. - Numeric\n",
    "\n",
    "Gender: The gender of the person (Male/Female). - Categorical\n",
    "\n",
    "Age: The age of the person in years. - Numeric\n",
    "\n",
    "Occupation: The occupation or profession of the person. - Categorical\n",
    "\n",
    "Sleep Duration (hours): The number of hours the person sleeps per day. - Numeric\n",
    "\n",
    "Quality of Sleep (scale: 1-10): A subjective rating of the quality of sleep, ranging from 1 to 10. - Numeric\n",
    "\n",
    "Physical Activity Level (minutes/day): The number of minutes the person engages in physical activity daily. - Numeric\n",
    "\n",
    "Stress Level (scale: 1-10): A subjective rating of the stress level experienced by the person, ranging from 1 to 10. - Numeric\n",
    "\n",
    "BMI Category: The BMI category of the person (e.g., Underweight, Normal, Overweight). - Categorical\n",
    "\n",
    "Blood Pressure (systolic/diastolic): The blood pressure measurement of the person, indicated as systolic pressure over diastolic pressure. - Numeric\n",
    "\n",
    "Heart Rate (bpm): The resting heart rate of the person in beats per minute. - Numeric\n",
    "\n",
    "Daily Steps: The number of steps the person takes per day. - Numeric\n",
    "\n",
    "Sleep Disorder: The presence or absence of a sleep disorder in the person (None, Insomnia, Sleep Apnea). - Categorical\n"
   ]
  }
 ],
 "metadata": {
  "language_info": {
   "name": "python"
  },
  "orig_nbformat": 4
 },
 "nbformat": 4,
 "nbformat_minor": 2
}
